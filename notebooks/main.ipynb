{
 "cells": [
  {
   "cell_type": "code",
   "execution_count": 124,
   "metadata": {},
   "outputs": [],
   "source": [
    "from keras.utils import image_dataset_from_directory, to_categorical\n",
    "from keras.models import Sequential\n",
    "from keras.layers import Dense, Conv2D, Flatten, MaxPooling2D\n",
    "\n",
    "from sklearn.model_selection import train_test_split\n",
    "\n",
    "from tensorflow.keras.layers.experimental.preprocessing import Rescaling\n",
    "\n",
    "import matplotlib.pyplot as plt"
   ]
  },
  {
   "cell_type": "markdown",
   "metadata": {},
   "source": [
    "Константы"
   ]
  },
  {
   "cell_type": "code",
   "execution_count": 125,
   "metadata": {},
   "outputs": [],
   "source": [
    "IMAGE_SIZE = (64, 64)"
   ]
  },
  {
   "cell_type": "code",
   "execution_count": 126,
   "metadata": {},
   "outputs": [],
   "source": [
    "train_path = '../dataset/chest_xray/train'\n",
    "val_path = '../dataset/chest_xray/val'\n",
    "test_path = '../dataset/chest_xray/test'"
   ]
  },
  {
   "cell_type": "code",
   "execution_count": 127,
   "metadata": {},
   "outputs": [
    {
     "name": "stdout",
     "output_type": "stream",
     "text": [
      "Found 5216 files belonging to 2 classes.\n",
      "Using 4173 files for training.\n",
      "Using 1043 files for validation.\n",
      "Found 624 files belonging to 2 classes.\n",
      "Found 16 files belonging to 2 classes.\n"
     ]
    }
   ],
   "source": [
    "train, train_val = image_dataset_from_directory(train_path, image_size=IMAGE_SIZE, subset=\"both\", validation_split=0.2, seed=11)\n",
    "test = image_dataset_from_directory(test_path, image_size=IMAGE_SIZE)\n",
    "val_dataset = image_dataset_from_directory(val_path, image_size=IMAGE_SIZE)"
   ]
  },
  {
   "cell_type": "markdown",
   "metadata": {},
   "source": [
    "Нормализация датасета"
   ]
  },
  {
   "cell_type": "code",
   "execution_count": 128,
   "metadata": {},
   "outputs": [],
   "source": [
    "rescale = Rescaling(scale=1.0 / 255)\n",
    "\n",
    "train = train.map(lambda image, label: (rescale(image), label))\n",
    "train_val = train_val.map(lambda image, label: (rescale(image), label))\n",
    "val_dataset  = val_dataset.map(lambda image, label: (rescale(image), label))\n",
    "test  = test.map(lambda image, label: (rescale(image), label))"
   ]
  },
  {
   "attachments": {},
   "cell_type": "markdown",
   "metadata": {},
   "source": [
    "Создание модели"
   ]
  },
  {
   "cell_type": "code",
   "execution_count": 129,
   "metadata": {},
   "outputs": [],
   "source": [
    "# let's build the CNN model\n",
    "\n",
    "model = Sequential([\n",
    "    Conv2D(32, (3,3), activation='relu', # (3,3) - фильтр\n",
    "                        input_shape=(64,64,3)),\n",
    "    MaxPooling2D((2,2)), # фильтр (2,2) для пулинга\n",
    "    Conv2D(64, (3,3), activation='relu'),\n",
    "    MaxPooling2D((2,2)),\n",
    "    Conv2D(64, (3,3), activation='relu'),\n",
    "\n",
    "    Flatten(),\n",
    "    Dense(64, 'relu'),\n",
    "    Dense(1, 'softmax')\n",
    "])"
   ]
  },
  {
   "attachments": {},
   "cell_type": "markdown",
   "metadata": {},
   "source": [
    "Компиляция модели"
   ]
  },
  {
   "cell_type": "code",
   "execution_count": 130,
   "metadata": {},
   "outputs": [],
   "source": [
    "model.compile(optimizer='adam', loss='categorical_crossentropy', metrics=['accuracy'])"
   ]
  },
  {
   "cell_type": "code",
   "execution_count": 131,
   "metadata": {},
   "outputs": [
    {
     "name": "stdout",
     "output_type": "stream",
     "text": [
      "Epoch 1/5\n",
      "131/131 [==============================] - 42s 297ms/step - loss: 0.0000e+00 - accuracy: 0.7426 - val_loss: 0.0000e+00 - val_accuracy: 0.7440\n",
      "Epoch 2/5\n",
      "131/131 [==============================] - 39s 293ms/step - loss: 0.0000e+00 - accuracy: 0.7426 - val_loss: 0.0000e+00 - val_accuracy: 0.7440\n",
      "Epoch 3/5\n",
      "131/131 [==============================] - 40s 297ms/step - loss: 0.0000e+00 - accuracy: 0.7426 - val_loss: 0.0000e+00 - val_accuracy: 0.7440\n",
      "Epoch 4/5\n",
      "131/131 [==============================] - 40s 294ms/step - loss: 0.0000e+00 - accuracy: 0.7426 - val_loss: 0.0000e+00 - val_accuracy: 0.7440\n",
      "Epoch 5/5\n",
      "131/131 [==============================] - 40s 296ms/step - loss: 0.0000e+00 - accuracy: 0.7426 - val_loss: 0.0000e+00 - val_accuracy: 0.7440\n"
     ]
    }
   ],
   "source": [
    "hist = model.fit(train, validation_data=(train_val), epochs=5, batch_size=64)"
   ]
  },
  {
   "cell_type": "code",
   "execution_count": 132,
   "metadata": {},
   "outputs": [
    {
     "name": "stdout",
     "output_type": "stream",
     "text": [
      "20/20 [==============================] - 3s 105ms/step - loss: 0.0000e+00 - accuracy: 0.6250\n"
     ]
    }
   ],
   "source": [
    "train_acc = max(hist.history['accuracy'])\n",
    "test_loss, test_acc = model.evaluate(test)"
   ]
  },
  {
   "cell_type": "code",
   "execution_count": 133,
   "metadata": {},
   "outputs": [],
   "source": [
    "def score_plot():\n",
    "    plt.bar(['train', 'test'], [train_acc, test_acc], color=['#069AF3', 'orange'])\n",
    "    plt.title(f'Score')\n",
    "    plt.show()"
   ]
  },
  {
   "cell_type": "code",
   "execution_count": 134,
   "metadata": {},
   "outputs": [
    {
     "data": {
      "image/png": "[encoded data removed]",
      "text/plain": [
       "<Figure size 640x480 with 1 Axes>"
      ]
     },
     "metadata": {},
     "output_type": "display_data"
    }
   ],
   "source": [
    "score_plot()"
   ]
  },
  {
   "attachments": {},
   "cell_type": "markdown",
   "metadata": {},
   "source": [
    "Сохранение модели"
   ]
  },
  {
   "cell_type": "code",
   "execution_count": 138,
   "metadata": {},
   "outputs": [],
   "source": [
    "test_score = int(round(test_acc * 100, 0))\n",
    "\n",
    "model.save(f\"../models/cnn{test_score}.h5\")"
   ]
  }
 ],
 "metadata": {
  "kernelspec": {
   "display_name": "Python 3.10.0 ('venv': venv)",
   "language": "python",
   "name": "python3"
  },
  "language_info": {
   "codemirror_mode": {
    "name": "ipython",
    "version": 3
   },
   "file_extension": ".py",
   "mimetype": "text/x-python",
   "name": "python",
   "nbconvert_exporter": "python",
   "pygments_lexer": "ipython3",
   "version": "3.10.0"
  },
  "orig_nbformat": 4,
  "vscode": {
   "interpreter": {
    "hash": "c482dbd1c3c68c8c72eec5627e0948b190e8b2534ef361fbd041fd95c64ab7e6"
   }
  }
 },
 "nbformat": 4,
 "nbformat_minor": 2
}
