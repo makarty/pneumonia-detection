{
 "cells": [
  {
   "cell_type": "code",
   "execution_count": 53,
   "metadata": {},
   "outputs": [],
   "source": [
    "from keras.utils import image_dataset_from_directory, to_categorical\n",
    "from keras.models import Sequential\n",
    "from keras.layers import Dense, Conv2D , MaxPool2D , Flatten , Dropout , BatchNormalization\n",
    "from keras.preprocessing.image import ImageDataGenerator\n",
    "from keras.callbacks import ReduceLROnPlateau\n",
    "\n",
    "from tensorflow.keras.layers.experimental.preprocessing import Rescaling\n",
    "\n",
    "import matplotlib.pyplot as plt\n",
    "import numpy as np\n",
    "import os\n",
    "import cv2"
   ]
  },
  {
   "cell_type": "markdown",
   "metadata": {},
   "source": [
    "Константы"
   ]
  },
  {
   "cell_type": "code",
   "execution_count": 55,
   "metadata": {},
   "outputs": [],
   "source": [
    "IMAGE_SIZE = (150, 150)\n",
    "IMAGE_SHAPE = (-1, 150, 150, 1)"
   ]
  },
  {
   "cell_type": "code",
   "execution_count": 56,
   "metadata": {},
   "outputs": [],
   "source": [
    "train_path = '../dataset/chest_xray/train'\n",
    "val_path = '../dataset/chest_xray/val'\n",
    "test_path = '../dataset/chest_xray/test'"
   ]
  },
  {
   "cell_type": "code",
   "execution_count": 57,
   "metadata": {},
   "outputs": [],
   "source": [
    "labels = ['PNEUMONIA', 'NORMAL']"
   ]
  },
  {
   "cell_type": "code",
   "execution_count": 58,
   "metadata": {},
   "outputs": [],
   "source": [
    "def check_extensions(dir):\n",
    "    for label in labels:\n",
    "        path = os.path.join(dir, label)\n",
    "        files = os.listdir(path)\n",
    "        extensions = set()\n",
    "        for file in files:\n",
    "            extensions.add(file.split(\".\")[-1])\n",
    "        print(extensions)"
   ]
  },
  {
   "cell_type": "code",
   "execution_count": 59,
   "metadata": {},
   "outputs": [
    {
     "name": "stdout",
     "output_type": "stream",
     "text": [
      "../dataset/chest_xray/train\n",
      "{'jpeg', 'DS_Store'}\n",
      "{'jpeg', 'DS_Store'}\n",
      "../dataset/chest_xray/val\n",
      "{'jpeg', 'DS_Store'}\n",
      "{'jpeg', 'DS_Store'}\n",
      "../dataset/chest_xray/test\n",
      "{'jpeg'}\n",
      "{'jpeg'}\n"
     ]
    }
   ],
   "source": [
    "c = [train_path, val_path, test_path]\n",
    "for path in c:\n",
    "    print(path)\n",
    "    check_extensions(path)"
   ]
  },
  {
   "cell_type": "code",
   "execution_count": 60,
   "metadata": {},
   "outputs": [],
   "source": [
    "def get_training_data(data_dir: str):\n",
    "    image_array = []\n",
    "    classes = []\n",
    "    for label in labels:\n",
    "        path = os.path.join(data_dir, label)\n",
    "        class_num = labels.index(label)\n",
    "        for img in os.listdir(path):\n",
    "            if \".jpeg\" not in img:\n",
    "                continue\n",
    "            image = cv2.imread(os.path.join(path, img), cv2.IMREAD_GRAYSCALE)\n",
    "            resized_img = cv2.resize(image, IMAGE_SIZE)\n",
    "            image_array.append(resized_img)\n",
    "            classes.append(class_num)\n",
    "    return np.array(image_array), np.array(classes)"
   ]
  },
  {
   "cell_type": "code",
   "execution_count": 61,
   "metadata": {},
   "outputs": [],
   "source": [
    "x_train, y_train = get_training_data(train_path)\n",
    "x_test, y_test = get_training_data(test_path)\n",
    "x_val, y_val = get_training_data(val_path)"
   ]
  },
  {
   "attachments": {},
   "cell_type": "markdown",
   "metadata": {},
   "source": [
    "Функции визуализации"
   ]
  },
  {
   "cell_type": "code",
   "execution_count": 62,
   "metadata": {},
   "outputs": [],
   "source": [
    "def pie_plot(data: list, labels: list, title: str):\n",
    "    plt.pie(data, labels=labels)\n",
    "    plt.title(title)\n",
    "    plt.show()"
   ]
  },
  {
   "cell_type": "code",
   "execution_count": 63,
   "metadata": {},
   "outputs": [],
   "source": [
    "def score_plot(data: list, labels: list, title: str, color: list):\n",
    "    plt.bar(labels, data, color=color)\n",
    "    plt.title(title)\n",
    "    plt.show()"
   ]
  },
  {
   "cell_type": "code",
   "execution_count": 64,
   "metadata": {},
   "outputs": [],
   "source": [
    "pneumo = 0\n",
    "norm = 0\n",
    "for i in y_train:\n",
    "    if(i == 0):\n",
    "        pneumo += 1\n",
    "    else:\n",
    "        norm += 1"
   ]
  },
  {
   "cell_type": "code",
   "execution_count": 65,
   "metadata": {},
   "outputs": [
    {
     "data": {
      "image/png": "[encoded data removed]",
      "text/plain": [
       "<Figure size 640x480 with 1 Axes>"
      ]
     },
     "metadata": {},
     "output_type": "display_data"
    }
   ],
   "source": [
    "pie_plot((pneumo, norm), labels=labels, title=\"Распределение классов\")"
   ]
  },
  {
   "cell_type": "markdown",
   "metadata": {},
   "source": [
    "Нормализация датасета"
   ]
  },
  {
   "cell_type": "code",
   "execution_count": 66,
   "metadata": {},
   "outputs": [],
   "source": [
    "x_train = np.array(x_train) / 255\n",
    "x_val = np.array(x_val) / 255\n",
    "x_test = np.array(x_test) / 255"
   ]
  },
  {
   "cell_type": "code",
   "execution_count": 67,
   "metadata": {},
   "outputs": [],
   "source": [
    "x_train = x_train.reshape(IMAGE_SHAPE)\n",
    "x_val = x_val.reshape(IMAGE_SHAPE)\n",
    "x_test = x_test.reshape(IMAGE_SHAPE)"
   ]
  },
  {
   "attachments": {},
   "cell_type": "markdown",
   "metadata": {},
   "source": [
    "Аугментация"
   ]
  },
  {
   "cell_type": "code",
   "execution_count": 68,
   "metadata": {},
   "outputs": [],
   "source": [
    "datagen = ImageDataGenerator(\n",
    "        featurewise_center=False,\n",
    "        samplewise_center=False,\n",
    "        featurewise_std_normalization=False,\n",
    "        samplewise_std_normalization=False,\n",
    "        zca_whitening=False,\n",
    "        rotation_range = 30,\n",
    "        zoom_range = 0.2,\n",
    "        width_shift_range=0.1,\n",
    "        height_shift_range=0.1,\n",
    "        horizontal_flip = True,\n",
    "        vertical_flip=False)"
   ]
  },
  {
   "cell_type": "code",
   "execution_count": 69,
   "metadata": {},
   "outputs": [],
   "source": [
    "datagen.fit(x_train)"
   ]
  },
  {
   "attachments": {},
   "cell_type": "markdown",
   "metadata": {},
   "source": [
    "Создание модели"
   ]
  },
  {
   "cell_type": "code",
   "execution_count": 70,
   "metadata": {},
   "outputs": [],
   "source": [
    "model = Sequential([\n",
    "    Conv2D(32 , (3,3) , strides = 1 , padding = 'same' , activation = 'relu' , input_shape = (150,150,1)),\n",
    "    BatchNormalization(),\n",
    "    MaxPool2D((2,2) , strides = 2 , padding = 'same'),\n",
    "    Conv2D(64 , (3,3) , strides = 1 , padding = 'same' , activation = 'relu'),\n",
    "    Dropout(0.1),\n",
    "    BatchNormalization(),\n",
    "    MaxPool2D((2,2) , strides = 2 , padding = 'same'),\n",
    "    Conv2D(64 , (3,3) , strides = 1 , padding = 'same' , activation = 'relu'),\n",
    "    BatchNormalization(),\n",
    "    MaxPool2D((2,2) , strides = 2 , padding = 'same'),\n",
    "    Conv2D(128 , (3,3) , strides = 1 , padding = 'same' , activation = 'relu'),\n",
    "    Dropout(0.2),\n",
    "    BatchNormalization(),\n",
    "    MaxPool2D((2,2) , strides = 2 , padding = 'same'),\n",
    "    Conv2D(256 , (3,3) , strides = 1 , padding = 'same' , activation = 'relu'),\n",
    "    Dropout(0.2),\n",
    "    BatchNormalization(),\n",
    "    MaxPool2D((2,2) , strides = 2 , padding = 'same'),\n",
    "    Flatten(),\n",
    "    Dense(units = 128 , activation = 'relu'),\n",
    "    Dropout(0.2),\n",
    "    Dense(units = 1 , activation = 'sigmoid'),\n",
    "])"
   ]
  },
  {
   "attachments": {},
   "cell_type": "markdown",
   "metadata": {},
   "source": [
    "Компиляция модели"
   ]
  },
  {
   "cell_type": "code",
   "execution_count": 71,
   "metadata": {},
   "outputs": [],
   "source": [
    "model.compile(optimizer = \"rmsprop\" , loss = 'binary_crossentropy' , metrics = ['accuracy'])"
   ]
  },
  {
   "attachments": {},
   "cell_type": "markdown",
   "metadata": {},
   "source": [
    "Корректировка скорости обучения"
   ]
  },
  {
   "cell_type": "code",
   "execution_count": 72,
   "metadata": {},
   "outputs": [],
   "source": [
    "lr = ReduceLROnPlateau(monitor='val_accuracy', patience = 2, verbose=True, factor=0.3, min_lr=0.000001)"
   ]
  },
  {
   "cell_type": "code",
   "execution_count": 73,
   "metadata": {},
   "outputs": [
    {
     "name": "stdout",
     "output_type": "stream",
     "text": [
      "Epoch 1/12\n",
      "163/163 [==============================] - 338s 2s/step - loss: 0.6901 - accuracy: 0.8261 - val_loss: 69.6647 - val_accuracy: 0.5000 - lr: 0.0010\n",
      "Epoch 2/12\n",
      "163/163 [==============================] - 325s 2s/step - loss: 0.2812 - accuracy: 0.8865 - val_loss: 86.7975 - val_accuracy: 0.5000 - lr: 0.0010\n",
      "Epoch 3/12\n",
      "163/163 [==============================] - ETA: 0s - loss: 0.2164 - accuracy: 0.9193\n",
      "Epoch 3: ReduceLROnPlateau reducing learning rate to 0.0003000000142492354.\n",
      "163/163 [==============================] - 330s 2s/step - loss: 0.2164 - accuracy: 0.9193 - val_loss: 19.6088 - val_accuracy: 0.5000 - lr: 0.0010\n",
      "Epoch 4/12\n",
      "163/163 [==============================] - 353s 2s/step - loss: 0.1600 - accuracy: 0.9471 - val_loss: 0.8887 - val_accuracy: 0.6875 - lr: 3.0000e-04\n",
      "Epoch 5/12\n",
      "163/163 [==============================] - 337s 2s/step - loss: 0.1362 - accuracy: 0.9503 - val_loss: 2.6197 - val_accuracy: 0.5000 - lr: 3.0000e-04\n",
      "Epoch 6/12\n",
      "163/163 [==============================] - ETA: 0s - loss: 0.1333 - accuracy: 0.9530\n",
      "Epoch 6: ReduceLROnPlateau reducing learning rate to 9.000000427477062e-05.\n",
      "163/163 [==============================] - 360s 2s/step - loss: 0.1333 - accuracy: 0.9530 - val_loss: 9.4992 - val_accuracy: 0.6250 - lr: 3.0000e-04\n",
      "Epoch 7/12\n",
      "163/163 [==============================] - 326s 2s/step - loss: 0.1126 - accuracy: 0.9617 - val_loss: 1.1525 - val_accuracy: 0.5625 - lr: 9.0000e-05\n",
      "Epoch 8/12\n",
      "163/163 [==============================] - ETA: 0s - loss: 0.1012 - accuracy: 0.9659\n",
      "Epoch 8: ReduceLROnPlateau reducing learning rate to 2.700000040931627e-05.\n",
      "163/163 [==============================] - 323s 2s/step - loss: 0.1012 - accuracy: 0.9659 - val_loss: 0.8249 - val_accuracy: 0.6250 - lr: 9.0000e-05\n",
      "Epoch 9/12\n",
      "163/163 [==============================] - 328s 2s/step - loss: 0.1096 - accuracy: 0.9645 - val_loss: 1.8876 - val_accuracy: 0.5625 - lr: 2.7000e-05\n",
      "Epoch 10/12\n",
      "163/163 [==============================] - ETA: 0s - loss: 0.0957 - accuracy: 0.9651\n",
      "Epoch 10: ReduceLROnPlateau reducing learning rate to 8.100000013655517e-06.\n",
      "163/163 [==============================] - 319s 2s/step - loss: 0.0957 - accuracy: 0.9651 - val_loss: 2.3075 - val_accuracy: 0.5625 - lr: 2.7000e-05\n",
      "Epoch 11/12\n",
      "163/163 [==============================] - 324s 2s/step - loss: 0.0877 - accuracy: 0.9676 - val_loss: 1.8489 - val_accuracy: 0.5625 - lr: 8.1000e-06\n",
      "Epoch 12/12\n",
      "163/163 [==============================] - ETA: 0s - loss: 0.1040 - accuracy: 0.9640\n",
      "Epoch 12: ReduceLROnPlateau reducing learning rate to 2.429999949526973e-06.\n",
      "163/163 [==============================] - 344s 2s/step - loss: 0.1040 - accuracy: 0.9640 - val_loss: 1.1741 - val_accuracy: 0.5625 - lr: 8.1000e-06\n"
     ]
    }
   ],
   "source": [
    "history = model.fit(datagen.flow(x_train,y_train, batch_size = 32), epochs = 12 , validation_data = datagen.flow(x_val, y_val), callbacks = [lr])"
   ]
  },
  {
   "cell_type": "code",
   "execution_count": 74,
   "metadata": {},
   "outputs": [
    {
     "name": "stdout",
     "output_type": "stream",
     "text": [
      "163/163 [==============================] - 77s 469ms/step - loss: 0.2770 - accuracy: 0.8972\n",
      "20/20 [==============================] - 9s 435ms/step - loss: 0.2637 - accuracy: 0.9006\n"
     ]
    }
   ],
   "source": [
    "train_acc = model.evaluate(x_train,y_train)[1]\n",
    "test_acc = model.evaluate(x_test,y_test)[1]"
   ]
  },
  {
   "cell_type": "code",
   "execution_count": 75,
   "metadata": {},
   "outputs": [
    {
     "data": {
      "image/png": "[encoded data removed]",
      "text/plain": [
       "<Figure size 640x480 with 1 Axes>"
      ]
     },
     "metadata": {},
     "output_type": "display_data"
    }
   ],
   "source": [
    "score_plot((train_acc, test_acc), ('train', 'test'), title=\"Score\", color=('#069AF3', 'orange'))"
   ]
  },
  {
   "attachments": {},
   "cell_type": "markdown",
   "metadata": {},
   "source": [
    "Сохранение модели"
   ]
  },
  {
   "cell_type": "code",
   "execution_count": 78,
   "metadata": {},
   "outputs": [],
   "source": [
    "test_score = int(round(test_acc, 2) * 100)\n",
    "\n",
    "model.save(f\"../models/cnn{test_score}.h5\")"
   ]
  }
 ],
 "metadata": {
  "kernelspec": {
   "display_name": "venv",
   "language": "python",
   "name": "python3"
  },
  "language_info": {
   "codemirror_mode": {
    "name": "ipython",
    "version": 3
   },
   "file_extension": ".py",
   "mimetype": "text/x-python",
   "name": "python",
   "nbconvert_exporter": "python",
   "pygments_lexer": "ipython3",
   "version": "3.10.0"
  },
  "orig_nbformat": 4,
  "vscode": {
   "interpreter": {
    "hash": "c482dbd1c3c68c8c72eec5627e0948b190e8b2534ef361fbd041fd95c64ab7e6"
   }
  }
 },
 "nbformat": 4,
 "nbformat_minor": 2
}
