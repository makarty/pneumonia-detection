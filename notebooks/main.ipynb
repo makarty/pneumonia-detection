{
 "cells": [
  {
   "cell_type": "code",
   "execution_count": 6,
   "metadata": {},
   "outputs": [],
   "source": [
    "from keras.utils import image_dataset_from_directory, to_categorical\n",
    "from keras.models import Sequential\n",
    "from keras.layers import Dense, Conv2D , MaxPool2D , Flatten , Dropout , BatchNormalization\n",
    "\n",
    "from sklearn.model_selection import train_test_split\n",
    "\n",
    "from tensorflow.keras.layers.experimental.preprocessing import Rescaling\n",
    "\n",
    "import matplotlib.pyplot as plt"
   ]
  },
  {
   "cell_type": "markdown",
   "metadata": {},
   "source": [
    "Константы"
   ]
  },
  {
   "cell_type": "code",
   "execution_count": 9,
   "metadata": {},
   "outputs": [],
   "source": [
    "# IMAGE_SIZE = (64, 64)\n",
    "IMAGE_SIZE = (150, 150)"
   ]
  },
  {
   "cell_type": "code",
   "execution_count": 3,
   "metadata": {},
   "outputs": [],
   "source": [
    "train_path = '../dataset/chest_xray/train'\n",
    "val_path = '../dataset/chest_xray/val'\n",
    "test_path = '../dataset/chest_xray/test'"
   ]
  },
  {
   "cell_type": "code",
   "execution_count": 10,
   "metadata": {},
   "outputs": [
    {
     "name": "stdout",
     "output_type": "stream",
     "text": [
      "Found 5216 files belonging to 2 classes.\n",
      "Using 4173 files for training.\n",
      "Using 1043 files for validation.\n",
      "Found 624 files belonging to 2 classes.\n",
      "Found 16 files belonging to 2 classes.\n"
     ]
    }
   ],
   "source": [
    "train, train_val = image_dataset_from_directory(train_path, image_size=IMAGE_SIZE, subset=\"both\", validation_split=0.2, seed=11)\n",
    "test = image_dataset_from_directory(test_path, image_size=IMAGE_SIZE)\n",
    "val_dataset = image_dataset_from_directory(val_path, image_size=IMAGE_SIZE)"
   ]
  },
  {
   "cell_type": "markdown",
   "metadata": {},
   "source": [
    "Нормализация датасета"
   ]
  },
  {
   "cell_type": "code",
   "execution_count": 11,
   "metadata": {},
   "outputs": [],
   "source": [
    "rescale = Rescaling(scale=1.0 / 255)\n",
    "\n",
    "train = train.map(lambda image, label: (rescale(image), label))\n",
    "train_val = train_val.map(lambda image, label: (rescale(image), label))\n",
    "val_dataset  = val_dataset.map(lambda image, label: (rescale(image), label))\n",
    "test  = test.map(lambda image, label: (rescale(image), label))"
   ]
  },
  {
   "attachments": {},
   "cell_type": "markdown",
   "metadata": {},
   "source": [
    "Создание модели"
   ]
  },
  {
   "cell_type": "code",
   "execution_count": 14,
   "metadata": {},
   "outputs": [],
   "source": [
    "model = Sequential()\n",
    "model.add(Conv2D(32 , (3,3) , strides = 1 , padding = 'same' , activation = 'relu' , input_shape = (150,150,3)))\n",
    "model.add(BatchNormalization())\n",
    "model.add(MaxPool2D((2,2) , strides = 2 , padding = 'same'))\n",
    "model.add(Conv2D(64 , (3,3) , strides = 1 , padding = 'same' , activation = 'relu'))\n",
    "model.add(Dropout(0.1))\n",
    "model.add(BatchNormalization())\n",
    "model.add(MaxPool2D((2,2) , strides = 2 , padding = 'same'))\n",
    "model.add(Conv2D(64 , (3,3) , strides = 1 , padding = 'same' , activation = 'relu'))\n",
    "model.add(BatchNormalization())\n",
    "model.add(MaxPool2D((2,2) , strides = 2 , padding = 'same'))\n",
    "model.add(Conv2D(128 , (3,3) , strides = 1 , padding = 'same' , activation = 'relu'))\n",
    "model.add(Dropout(0.2))\n",
    "model.add(BatchNormalization())\n",
    "model.add(MaxPool2D((2,2) , strides = 2 , padding = 'same'))\n",
    "model.add(Conv2D(256 , (3,3) , strides = 1 , padding = 'same' , activation = 'relu'))\n",
    "model.add(Dropout(0.2))\n",
    "model.add(BatchNormalization())\n",
    "model.add(MaxPool2D((2,2) , strides = 2 , padding = 'same'))\n",
    "model.add(Flatten())\n",
    "model.add(Dense(units = 128 , activation = 'relu'))\n",
    "model.add(Dropout(0.2))\n",
    "model.add(Dense(units = 1 , activation = 'sigmoid'))"
   ]
  },
  {
   "attachments": {},
   "cell_type": "markdown",
   "metadata": {},
   "source": [
    "Компиляция модели"
   ]
  },
  {
   "cell_type": "code",
   "execution_count": 130,
   "metadata": {},
   "outputs": [],
   "source": [
    "model.compile(optimizer = \"rmsprop\" , loss = 'binary_crossentropy' , metrics = ['accuracy'])"
   ]
  },
  {
   "cell_type": "code",
   "execution_count": 15,
   "metadata": {},
   "outputs": [
    {
     "name": "stdout",
     "output_type": "stream",
     "text": [
      "Epoch 1/12\n",
      "131/131 [==============================] - 326s 2s/step - loss: 0.4832 - accuracy: 0.8919 - val_loss: 4.2271 - val_accuracy: 0.7440\n",
      "Epoch 2/12\n",
      "131/131 [==============================] - 340s 3s/step - loss: 0.1483 - accuracy: 0.9499 - val_loss: 2.9585 - val_accuracy: 0.7440\n",
      "Epoch 3/12\n",
      "131/131 [==============================] - 361s 3s/step - loss: 0.1055 - accuracy: 0.9650 - val_loss: 7.2282 - val_accuracy: 0.7440\n",
      "Epoch 4/12\n",
      "131/131 [==============================] - 381s 3s/step - loss: 0.0786 - accuracy: 0.9732 - val_loss: 2.4656 - val_accuracy: 0.7526\n",
      "Epoch 5/12\n",
      "131/131 [==============================] - 419s 3s/step - loss: 0.0635 - accuracy: 0.9796 - val_loss: 0.7558 - val_accuracy: 0.8456\n",
      "Epoch 6/12\n",
      "131/131 [==============================] - 441s 3s/step - loss: 0.0522 - accuracy: 0.9844 - val_loss: 0.1773 - val_accuracy: 0.9377\n",
      "Epoch 7/12\n",
      "131/131 [==============================] - 408s 3s/step - loss: 0.0416 - accuracy: 0.9842 - val_loss: 0.1090 - val_accuracy: 0.9664\n",
      "Epoch 8/12\n",
      "131/131 [==============================] - 366s 3s/step - loss: 0.0458 - accuracy: 0.9875 - val_loss: 0.0845 - val_accuracy: 0.9674\n",
      "Epoch 9/12\n",
      "131/131 [==============================] - 384s 3s/step - loss: 0.0304 - accuracy: 0.9890 - val_loss: 0.0637 - val_accuracy: 0.9779\n",
      "Epoch 10/12\n",
      "131/131 [==============================] - 429s 3s/step - loss: 0.0301 - accuracy: 0.9895 - val_loss: 0.2723 - val_accuracy: 0.9243\n",
      "Epoch 11/12\n",
      "131/131 [==============================] - 344s 3s/step - loss: 0.0353 - accuracy: 0.9911 - val_loss: 0.2343 - val_accuracy: 0.9473\n",
      "Epoch 12/12\n",
      "131/131 [==============================] - 357s 3s/step - loss: 0.0252 - accuracy: 0.9916 - val_loss: 0.3394 - val_accuracy: 0.9358\n"
     ]
    }
   ],
   "source": [
    "hist = model.fit(train, validation_data=(train_val), epochs=12, batch_size=32)"
   ]
  },
  {
   "cell_type": "code",
   "execution_count": 16,
   "metadata": {},
   "outputs": [
    {
     "name": "stdout",
     "output_type": "stream",
     "text": [
      "20/20 [==============================] - 15s 513ms/step - loss: 6.8495 - accuracy: 0.6538\n"
     ]
    }
   ],
   "source": [
    "train_acc = max(hist.history['accuracy'])\n",
    "test_loss, test_acc = model.evaluate(test)"
   ]
  },
  {
   "cell_type": "code",
   "execution_count": 17,
   "metadata": {},
   "outputs": [],
   "source": [
    "def score_plot():\n",
    "    plt.bar(['train', 'test'], [train_acc, test_acc], color=['#069AF3', 'orange'])\n",
    "    plt.title(f'Score')\n",
    "    plt.show()"
   ]
  },
  {
   "cell_type": "code",
   "execution_count": 18,
   "metadata": {},
   "outputs": [
    {
     "data": {
      "image/png": "[encoded data removed]",
      "text/plain": [
       "<Figure size 640x480 with 1 Axes>"
      ]
     },
     "metadata": {},
     "output_type": "display_data"
    }
   ],
   "source": [
    "score_plot()"
   ]
  },
  {
   "attachments": {},
   "cell_type": "markdown",
   "metadata": {},
   "source": [
    "Сохранение модели"
   ]
  },
  {
   "cell_type": "code",
   "execution_count": 19,
   "metadata": {},
   "outputs": [],
   "source": [
    "test_score = int(round(test_acc * 100, 0))\n",
    "\n",
    "model.save(f\"../models/cnn{test_score}.h5\")"
   ]
  }
 ],
 "metadata": {
  "kernelspec": {
   "display_name": "venv",
   "language": "python",
   "name": "python3"
  },
  "language_info": {
   "codemirror_mode": {
    "name": "ipython",
    "version": 3
   },
   "file_extension": ".py",
   "mimetype": "text/x-python",
   "name": "python",
   "nbconvert_exporter": "python",
   "pygments_lexer": "ipython3",
   "version": "3.10.0"
  },
  "orig_nbformat": 4,
  "vscode": {
   "interpreter": {
    "hash": "c482dbd1c3c68c8c72eec5627e0948b190e8b2534ef361fbd041fd95c64ab7e6"
   }
  }
 },
 "nbformat": 4,
 "nbformat_minor": 2
}
