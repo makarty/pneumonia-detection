{
 "cells": [
  {
   "cell_type": "code",
   "execution_count": 2,
   "metadata": {},
   "outputs": [],
   "source": [
    "import pandas as pd\n",
    "import numpy as np\n",
    "import os"
   ]
  },
  {
   "cell_type": "markdown",
   "metadata": {},
   "source": [
    "Директории с изображениями"
   ]
  },
  {
   "cell_type": "code",
   "execution_count": 9,
   "metadata": {},
   "outputs": [],
   "source": [
    "dataset_train_normal_path = \"../dataset/train/NORMAL\"\n",
    "dataset_train_defective_path = \"../dataset/train/PNEUMONIA\"\n",
    "\n",
    "dataset_test_normal_path = \"../dataset/test/NORMAL\"\n",
    "dataset_test_defective_path = \"../dataset/test/PNEUMONIA\""
   ]
  },
  {
   "cell_type": "markdown",
   "metadata": {},
   "source": [
    "Получаем список файлов из train датасета"
   ]
  },
  {
   "cell_type": "code",
   "execution_count": 8,
   "metadata": {},
   "outputs": [],
   "source": [
    "normal_lungs = sorted(os.listdir(dataset_train_normal_path))\n",
    "defective_lungs = sorted(os.listdir(dataset_train_defective_path))"
   ]
  }
 ],
 "metadata": {
  "kernelspec": {
   "display_name": "Python 3.10.0 ('venv': venv)",
   "language": "python",
   "name": "python3"
  },
  "language_info": {
   "codemirror_mode": {
    "name": "ipython",
    "version": 3
   },
   "file_extension": ".py",
   "mimetype": "text/x-python",
   "name": "python",
   "nbconvert_exporter": "python",
   "pygments_lexer": "ipython3",
   "version": "3.10.0"
  },
  "orig_nbformat": 4,
  "vscode": {
   "interpreter": {
    "hash": "c482dbd1c3c68c8c72eec5627e0948b190e8b2534ef361fbd041fd95c64ab7e6"
   }
  }
 },
 "nbformat": 4,
 "nbformat_minor": 2
}
